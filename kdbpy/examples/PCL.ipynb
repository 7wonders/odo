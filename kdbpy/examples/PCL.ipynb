{
 "metadata": {
  "name": "",
  "signature": "sha256:54447661b216849f17ae1ad30ecc25c707cdd79494b5a0ddb2d21e4137fadc7e"
 },
 "nbformat": 3,
 "nbformat_minor": 0,
 "worksheets": [
  {
   "cells": [
    {
     "cell_type": "markdown",
     "metadata": {},
     "source": [
      "NEAT 3.0 API Backend Interface (NBI)"
     ]
    },
    {
     "cell_type": "code",
     "collapsed": false,
     "input": [
      "from IPython.display import display as disp\n",
      "import pandas as pd\n",
      "\n",
      "import kdbpy\n",
      "from kdbpy import pcl\n",
      "import qpython\n",
      "\n",
      "print \"kdbpy: {0}, qpython: {1}\".format(kdbpy.__version__,qpython.__version__)"
     ],
     "language": "python",
     "metadata": {},
     "outputs": [
      {
       "output_type": "stream",
       "stream": "stdout",
       "text": [
        "kdbpy: 0.0.1, qpython: 1.0RC1\n"
       ]
      }
     ],
     "prompt_number": 1
    },
    {
     "cell_type": "code",
     "collapsed": false,
     "input": [
      "# create the PCL object, only needs one-time creation\n",
      "# sets up the q server and the client process\n",
      "p = pcl.PCL()\n",
      "p"
     ],
     "language": "python",
     "metadata": {},
     "outputs": [
      {
       "metadata": {},
       "output_type": "pyout",
       "prompt_number": 10,
       "text": [
        "PCL: [KDB: [Credentials(host='localhost', port=5001, username='jreback', password=None) -> connected]]"
       ]
      }
     ],
     "prompt_number": 10
    },
    {
     "cell_type": "code",
     "collapsed": false,
     "input": [
      "# eval is the main entry point. These will return a scalar, Series, DataFrame depending on\n",
      "# the q output\n",
      "df = p.eval('([]a:til 10;b:reverse til 10;c:10?`4;d:{x#.Q.a}each til 10)')\n",
      "disp(df)\n",
      "\n",
      "# if you want to look at the underlying q types\n",
      "# note that this will NOT propogate (e.g. df + 1) will not have this attribute\n",
      "print df.meta\n",
      "\n",
      "# series\n",
      "s = p.eval('[]b:til 10')\n",
      "disp(s)"
     ],
     "language": "python",
     "metadata": {},
     "outputs": [
      {
       "html": [
        "<div style=\"max-height:1000px;max-width:1500px;overflow:auto;\">\n",
        "<table border=\"1\" class=\"dataframe\">\n",
        "  <thead>\n",
        "    <tr style=\"text-align: right;\">\n",
        "      <th></th>\n",
        "      <th>a</th>\n",
        "      <th>b</th>\n",
        "      <th>c</th>\n",
        "      <th>d</th>\n",
        "    </tr>\n",
        "  </thead>\n",
        "  <tbody>\n",
        "    <tr>\n",
        "      <th>0</th>\n",
        "      <td> 0</td>\n",
        "      <td> 9</td>\n",
        "      <td> milg</td>\n",
        "      <td>          </td>\n",
        "    </tr>\n",
        "    <tr>\n",
        "      <th>1</th>\n",
        "      <td> 1</td>\n",
        "      <td> 8</td>\n",
        "      <td> igfb</td>\n",
        "      <td>         a</td>\n",
        "    </tr>\n",
        "    <tr>\n",
        "      <th>2</th>\n",
        "      <td> 2</td>\n",
        "      <td> 7</td>\n",
        "      <td> kaod</td>\n",
        "      <td>        ab</td>\n",
        "    </tr>\n",
        "    <tr>\n",
        "      <th>3</th>\n",
        "      <td> 3</td>\n",
        "      <td> 6</td>\n",
        "      <td> bafc</td>\n",
        "      <td>       abc</td>\n",
        "    </tr>\n",
        "    <tr>\n",
        "      <th>4</th>\n",
        "      <td> 4</td>\n",
        "      <td> 5</td>\n",
        "      <td> kfho</td>\n",
        "      <td>      abcd</td>\n",
        "    </tr>\n",
        "    <tr>\n",
        "      <th>5</th>\n",
        "      <td> 5</td>\n",
        "      <td> 4</td>\n",
        "      <td> jecp</td>\n",
        "      <td>     abcde</td>\n",
        "    </tr>\n",
        "    <tr>\n",
        "      <th>6</th>\n",
        "      <td> 6</td>\n",
        "      <td> 3</td>\n",
        "      <td> kfmo</td>\n",
        "      <td>    abcdef</td>\n",
        "    </tr>\n",
        "    <tr>\n",
        "      <th>7</th>\n",
        "      <td> 7</td>\n",
        "      <td> 2</td>\n",
        "      <td> lkkl</td>\n",
        "      <td>   abcdefg</td>\n",
        "    </tr>\n",
        "    <tr>\n",
        "      <th>8</th>\n",
        "      <td> 8</td>\n",
        "      <td> 1</td>\n",
        "      <td> kfif</td>\n",
        "      <td>  abcdefgh</td>\n",
        "    </tr>\n",
        "    <tr>\n",
        "      <th>9</th>\n",
        "      <td> 9</td>\n",
        "      <td> 0</td>\n",
        "      <td> fglg</td>\n",
        "      <td> abcdefghi</td>\n",
        "    </tr>\n",
        "  </tbody>\n",
        "</table>\n",
        "</div>"
       ],
       "metadata": {},
       "output_type": "display_data",
       "text": [
        "   a  b     c          d\n",
        "0  0  9  milg           \n",
        "1  1  8  igfb          a\n",
        "2  2  7  kaod         ab\n",
        "3  3  6  bafc        abc\n",
        "4  4  5  kfho       abcd\n",
        "5  5  4  jecp      abcde\n",
        "6  6  3  kfmo     abcdef\n",
        "7  7  2  lkkl    abcdefg\n",
        "8  8  1  kfif   abcdefgh\n",
        "9  9  0  fglg  abcdefghi"
       ]
      },
      {
       "output_type": "stream",
       "stream": "stdout",
       "text": [
        "metadata(a=7, c=11, b=7, qtype=98, d=0)\n"
       ]
      },
      {
       "metadata": {},
       "output_type": "display_data",
       "text": [
        "0    0\n",
        "1    1\n",
        "2    2\n",
        "3    3\n",
        "4    4\n",
        "5    5\n",
        "6    6\n",
        "7    7\n",
        "8    8\n",
        "9    9\n",
        "dtype: int64"
       ]
      }
     ],
     "prompt_number": 5
    },
    {
     "cell_type": "code",
     "collapsed": false,
     "input": [
      "# scalar output\n",
      "disp(p.eval('42'))\n",
      "disp(p.eval('42.0'))\n",
      "disp(p.eval('\"abcdef\"'))\n",
      "disp(p.eval('`symbol'))\n",
      "\n",
      "# element-wise comparison\n",
      "disp(p.eval('\"foo\" = \"bar\"'))\n",
      "\n",
      "# booleans\n",
      "disp(p.eval('42 = 0'))\n",
      "disp(p.eval('\"foo\" ~ \"bar\"'))\n",
      "\n",
      "# list\n",
      "disp(p.eval('(`a; (`b; 1))'))\n",
      "disp(p.eval('(`a; 1; 42)'))\n",
      "\n",
      "# datetime \n",
      "disp(p.eval('2001.01.01'))\n",
      "disp(p.eval('2006.07.04T09:04:59:000'))\n",
      "\n",
      "# timedelta \n",
      "disp(p.eval('00:01'))"
     ],
     "language": "python",
     "metadata": {},
     "outputs": [
      {
       "metadata": {},
       "output_type": "display_data",
       "text": [
        "42"
       ]
      },
      {
       "metadata": {},
       "output_type": "display_data",
       "text": [
        "42.0"
       ]
      },
      {
       "metadata": {},
       "output_type": "display_data",
       "text": [
        "'abcdef'"
       ]
      },
      {
       "metadata": {},
       "output_type": "display_data",
       "text": [
        "'symbol'"
       ]
      },
      {
       "metadata": {},
       "output_type": "display_data",
       "text": [
        "0    False\n",
        "1    False\n",
        "2    False\n",
        "dtype: bool"
       ]
      },
      {
       "metadata": {},
       "output_type": "display_data",
       "text": [
        "False"
       ]
      },
      {
       "metadata": {},
       "output_type": "display_data",
       "text": [
        "False"
       ]
      },
      {
       "metadata": {},
       "output_type": "display_data",
       "text": [
        "['a', ['b', 1]]"
       ]
      },
      {
       "metadata": {},
       "output_type": "display_data",
       "text": [
        "['a', 1, 42]"
       ]
      },
      {
       "metadata": {},
       "output_type": "display_data",
       "text": [
        "Timestamp('2001-01-01 00:00:00')"
       ]
      },
      {
       "metadata": {},
       "output_type": "display_data",
       "text": [
        "Timestamp('2006-07-04 09:04:59')"
       ]
      },
      {
       "metadata": {},
       "output_type": "display_data",
       "text": [
        "Timedelta('0 days 00:01:00')"
       ]
      }
     ],
     "prompt_number": 6
    },
    {
     "cell_type": "code",
     "collapsed": false,
     "input": [
      "# passing data in\n",
      "df = DataFrame(np.random.randn(5,5))\n",
      "disp(p.eval('{x + 1}',df))\n",
      "disp(p.eval('{x + 1}',5))\n",
      "\n",
      "def f():\n",
      "    p.eval('foo:10')\n",
      "    return p.eval('foo')\n",
      "disp(p.eval(f))"
     ],
     "language": "python",
     "metadata": {},
     "outputs": [
      {
       "html": [
        "<div style=\"max-height:1000px;max-width:1500px;overflow:auto;\">\n",
        "<table border=\"1\" class=\"dataframe\">\n",
        "  <thead>\n",
        "    <tr style=\"text-align: right;\">\n",
        "      <th></th>\n",
        "      <th>0</th>\n",
        "      <th>1</th>\n",
        "      <th>2</th>\n",
        "      <th>3</th>\n",
        "      <th>4</th>\n",
        "    </tr>\n",
        "  </thead>\n",
        "  <tbody>\n",
        "    <tr>\n",
        "      <th>0</th>\n",
        "      <td> 0.166651</td>\n",
        "      <td> 1.460280</td>\n",
        "      <td> 0.658212</td>\n",
        "      <td> 1.626070</td>\n",
        "      <td>-0.077430</td>\n",
        "    </tr>\n",
        "    <tr>\n",
        "      <th>1</th>\n",
        "      <td>-0.463480</td>\n",
        "      <td> 2.224014</td>\n",
        "      <td> 2.487820</td>\n",
        "      <td> 0.390310</td>\n",
        "      <td> 1.301347</td>\n",
        "    </tr>\n",
        "    <tr>\n",
        "      <th>2</th>\n",
        "      <td>-1.819598</td>\n",
        "      <td> 2.156023</td>\n",
        "      <td> 1.306177</td>\n",
        "      <td>-0.273035</td>\n",
        "      <td> 1.172377</td>\n",
        "    </tr>\n",
        "    <tr>\n",
        "      <th>3</th>\n",
        "      <td> 2.203316</td>\n",
        "      <td> 2.210112</td>\n",
        "      <td> 0.759061</td>\n",
        "      <td> 1.037712</td>\n",
        "      <td> 2.362715</td>\n",
        "    </tr>\n",
        "    <tr>\n",
        "      <th>4</th>\n",
        "      <td> 0.959690</td>\n",
        "      <td> 1.093807</td>\n",
        "      <td> 2.117759</td>\n",
        "      <td> 1.255459</td>\n",
        "      <td> 0.808421</td>\n",
        "    </tr>\n",
        "  </tbody>\n",
        "</table>\n",
        "</div>"
       ],
       "metadata": {},
       "output_type": "display_data",
       "text": [
        "          0         1         2         3         4\n",
        "0  0.166651  1.460280  0.658212  1.626070 -0.077430\n",
        "1 -0.463480  2.224014  2.487820  0.390310  1.301347\n",
        "2 -1.819598  2.156023  1.306177 -0.273035  1.172377\n",
        "3  2.203316  2.210112  0.759061  1.037712  2.362715\n",
        "4  0.959690  1.093807  2.117759  1.255459  0.808421"
       ]
      },
      {
       "metadata": {},
       "output_type": "display_data",
       "text": [
        "6"
       ]
      },
      {
       "metadata": {},
       "output_type": "display_data",
       "text": [
        "10"
       ]
      }
     ],
     "prompt_number": 7
    },
    {
     "cell_type": "code",
     "collapsed": false,
     "input": [],
     "language": "python",
     "metadata": {},
     "outputs": []
    }
   ],
   "metadata": {}
  }
 ]
}