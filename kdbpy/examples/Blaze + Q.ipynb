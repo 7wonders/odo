{
 "metadata": {
  "name": "",
  "signature": "sha256:ca443d20100278e3e5b2f94da47a9939b7b7dc2b0137e8552e4139c43ed2747a"
 },
 "nbformat": 3,
 "nbformat_minor": 0,
 "worksheets": [
  {
   "cells": [
    {
     "cell_type": "heading",
     "level": 1,
     "metadata": {},
     "source": [
      "`blaze` + `q` `==` readable `q`"
     ]
    },
    {
     "cell_type": "code",
     "collapsed": false,
     "input": [
      "import getpass\n",
      "from blaze import compute, Symbol, discover, into, Data, compute_up, by\n",
      "from kdbpy.compute.qtable import QTable\n",
      "from kdbpy.kdb import KQ, get_credentials\n",
      "from kdbpy import q"
     ],
     "language": "python",
     "metadata": {},
     "outputs": []
    },
    {
     "cell_type": "code",
     "collapsed": false,
     "input": [
      "kq = KQ(get_credentials(), start='restart')"
     ],
     "language": "python",
     "metadata": {},
     "outputs": []
    },
    {
     "cell_type": "heading",
     "level": 3,
     "metadata": {},
     "source": [
      "Load a KDB database"
     ]
    },
    {
     "cell_type": "code",
     "collapsed": false,
     "input": [
      "kq.read_kdb('data/start/db')  # maybe should call this load?"
     ],
     "language": "python",
     "metadata": {},
     "outputs": []
    },
    {
     "cell_type": "heading",
     "level": 4,
     "metadata": {},
     "source": [
      "What tables do we have in the namespace?"
     ]
    },
    {
     "cell_type": "code",
     "collapsed": false,
     "input": [
      "tb = kq.tables"
     ],
     "language": "python",
     "metadata": {},
     "outputs": []
    },
    {
     "cell_type": "code",
     "collapsed": false,
     "input": [
      "tb"
     ],
     "language": "python",
     "metadata": {},
     "outputs": []
    },
    {
     "cell_type": "code",
     "collapsed": false,
     "input": [
      "# connection string is a bit redundant with the engine here\n",
      "trade = Data('kdb://pcloud@localhost:5000/start/db::trade', engine=kq)"
     ],
     "language": "python",
     "metadata": {},
     "outputs": []
    },
    {
     "cell_type": "code",
     "collapsed": false,
     "input": [
      "trade.head(5)"
     ],
     "language": "python",
     "metadata": {},
     "outputs": []
    },
    {
     "cell_type": "code",
     "collapsed": false,
     "input": [
      "trade.nrows"
     ],
     "language": "python",
     "metadata": {},
     "outputs": []
    },
    {
     "cell_type": "code",
     "collapsed": false,
     "input": [
      "result = 2 * trade.price ** 2 + np.pi"
     ],
     "language": "python",
     "metadata": {},
     "outputs": []
    },
    {
     "cell_type": "code",
     "collapsed": false,
     "input": [
      "result.head(5)"
     ],
     "language": "python",
     "metadata": {},
     "outputs": []
    },
    {
     "cell_type": "heading",
     "level": 3,
     "metadata": {},
     "source": [
      "Partitioned and splayed tables are a WIP"
     ]
    },
    {
     "cell_type": "code",
     "collapsed": false,
     "input": [
      "quote = Data('kdb://pcloud@localhost:5000/start/db::quote', engine=kq)"
     ],
     "language": "python",
     "metadata": {},
     "outputs": []
    },
    {
     "cell_type": "code",
     "collapsed": false,
     "input": [
      "quote.head(5)"
     ],
     "language": "python",
     "metadata": {},
     "outputs": []
    },
    {
     "cell_type": "code",
     "collapsed": false,
     "input": [
      "tb[tb.name.isin(['quote', 'trade'])]"
     ],
     "language": "python",
     "metadata": {},
     "outputs": []
    },
    {
     "cell_type": "code",
     "collapsed": false,
     "input": [
      "quote.nrows"
     ],
     "language": "python",
     "metadata": {},
     "outputs": []
    },
    {
     "cell_type": "code",
     "collapsed": false,
     "input": [
      "by(trade.sym, trade.price.mean())  # :("
     ],
     "language": "python",
     "metadata": {},
     "outputs": []
    },
    {
     "cell_type": "heading",
     "level": 3,
     "metadata": {},
     "source": [
      "However, standard tables work pretty well"
     ]
    },
    {
     "cell_type": "code",
     "collapsed": false,
     "input": [
      "daily = Data('kdb://pcloud@localhost:5000/start/db::daily', engine=kq)"
     ],
     "language": "python",
     "metadata": {},
     "outputs": []
    },
    {
     "cell_type": "code",
     "collapsed": false,
     "input": [
      "daily.head(5)"
     ],
     "language": "python",
     "metadata": {},
     "outputs": []
    },
    {
     "cell_type": "code",
     "collapsed": false,
     "input": [
      "daily.nrows"
     ],
     "language": "python",
     "metadata": {},
     "outputs": []
    },
    {
     "cell_type": "code",
     "collapsed": false,
     "input": [
      "# r: select from trade where date = last date, sym = `IBM\n",
      "r = daily[(daily.date == daily.date[-1]) & (daily.sym == 'IBM')]\n",
      "r"
     ],
     "language": "python",
     "metadata": {},
     "outputs": []
    },
    {
     "cell_type": "code",
     "collapsed": false,
     "input": [
      "r.low.mean()"
     ],
     "language": "python",
     "metadata": {},
     "outputs": []
    },
    {
     "cell_type": "code",
     "collapsed": false,
     "input": [
      "r.columns"
     ],
     "language": "python",
     "metadata": {},
     "outputs": []
    },
    {
     "cell_type": "heading",
     "level": 3,
     "metadata": {},
     "source": [
      "Blaze gives you simple functions for free"
     ]
    },
    {
     "cell_type": "code",
     "collapsed": false,
     "input": [
      "def wavg(weights, x):\n",
      "    return wsum(weights, x) / x.sum()\n",
      "\n",
      "\n",
      "def wsum(weights, x):\n",
      "    return (weights * x).sum()"
     ],
     "language": "python",
     "metadata": {},
     "outputs": []
    },
    {
     "cell_type": "code",
     "collapsed": false,
     "input": [
      "d = daily[daily.price > 1000]\n",
      "\n",
      "result = by(d.sym,\n",
      "            mean=d.price.mean(),\n",
      "            size=d.size.sum(),\n",
      "            wavg=wavg(d.size, d.price))\n",
      "result"
     ],
     "language": "python",
     "metadata": {},
     "outputs": []
    },
    {
     "cell_type": "code",
     "collapsed": false,
     "input": [
      "wat = compute_up(result, q.List(), scope={daily: daily.data})\n",
      "wat"
     ],
     "language": "python",
     "metadata": {},
     "outputs": []
    },
    {
     "cell_type": "code",
     "collapsed": false,
     "input": [
      "w"
     ],
     "language": "python",
     "metadata": {},
     "outputs": []
    },
    {
     "cell_type": "heading",
     "level": 3,
     "metadata": {},
     "source": [
      "The Future\u2122"
     ]
    },
    {
     "cell_type": "code",
     "collapsed": false,
     "input": [
      "# example from the Kx website:\n",
      "# select cnt: count i, size: sum size, price: last price, wprice: size wavg price\n",
      "#     by 5 xbar time.minute from trade\n",
      "result = by(trade.time.minute.bar(5),  # currently no resampling in blaze\n",
      "            cnt=trade.price.nrows(),\n",
      "            size=trade.size.sum(),\n",
      "            price=trade.price[-1],\n",
      "            wprice=wavg(trade.size, trade.price)\n",
      "            )\n",
      "result"
     ],
     "language": "python",
     "metadata": {},
     "outputs": []
    },
    {
     "cell_type": "code",
     "collapsed": false,
     "input": [
      "kq.set('a', pd.DataFrame({'a': [1,2,3]}))"
     ],
     "language": "python",
     "metadata": {},
     "outputs": []
    },
    {
     "cell_type": "code",
     "collapsed": false,
     "input": [
      "kq.eval('a')"
     ],
     "language": "python",
     "metadata": {},
     "outputs": []
    }
   ],
   "metadata": {}
  }
 ]
}