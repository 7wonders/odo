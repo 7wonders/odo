{
 "metadata": {
  "name": "",
  "signature": "sha256:556ed2e801dbd229ff1a4d4a8d07a762643752c7567e48de89398a7105e8b168"
 },
 "nbformat": 3,
 "nbformat_minor": 0,
 "worksheets": [
  {
   "cells": [
    {
     "cell_type": "heading",
     "level": 1,
     "metadata": {},
     "source": [
      "`blaze` + `q` `==` readable `q`"
     ]
    },
    {
     "cell_type": "code",
     "collapsed": false,
     "input": [
      "import getpass\n",
      "from blaze import compute, Symbol, discover, into, Data, compute_up, by\n",
      "from kdbpy.compute.qtable import QTable\n",
      "from kdbpy.kdb import KQ, get_credentials"
     ],
     "language": "python",
     "metadata": {},
     "outputs": []
    },
    {
     "cell_type": "code",
     "collapsed": false,
     "input": [
      "kq = KQ(get_credentials(), start='restart')"
     ],
     "language": "python",
     "metadata": {},
     "outputs": []
    },
    {
     "cell_type": "heading",
     "level": 3,
     "metadata": {},
     "source": [
      "Load a KDB database"
     ]
    },
    {
     "cell_type": "code",
     "collapsed": false,
     "input": [
      "kq.eval(r'\\l data/start/db')"
     ],
     "language": "python",
     "metadata": {},
     "outputs": []
    },
    {
     "cell_type": "heading",
     "level": 4,
     "metadata": {},
     "source": [
      "What tables do we have in the namespace?"
     ]
    },
    {
     "cell_type": "code",
     "collapsed": false,
     "input": [
      "kq.eval(r'\\a')"
     ],
     "language": "python",
     "metadata": {},
     "outputs": []
    },
    {
     "cell_type": "code",
     "collapsed": false,
     "input": [
      "trade = Data('kdb://pcloud@localhost:5000/start/db::trade', engine=kq)"
     ],
     "language": "python",
     "metadata": {},
     "outputs": []
    },
    {
     "cell_type": "heading",
     "level": 3,
     "metadata": {},
     "source": [
      "Partitioned tables are a WIP"
     ]
    },
    {
     "cell_type": "code",
     "collapsed": false,
     "input": [
      "trade"
     ],
     "language": "python",
     "metadata": {},
     "outputs": []
    },
    {
     "cell_type": "code",
     "collapsed": false,
     "input": [
      "trade.nrows"
     ],
     "language": "python",
     "metadata": {},
     "outputs": []
    },
    {
     "cell_type": "code",
     "collapsed": false,
     "input": [
      "quote = Data('kdb://pcloud@localhost:5000/start/db::quote', engine=kq)"
     ],
     "language": "python",
     "metadata": {},
     "outputs": []
    },
    {
     "cell_type": "code",
     "collapsed": false,
     "input": [
      "quote"
     ],
     "language": "python",
     "metadata": {},
     "outputs": []
    },
    {
     "cell_type": "code",
     "collapsed": false,
     "input": [
      "quote.nrows"
     ],
     "language": "python",
     "metadata": {},
     "outputs": []
    },
    {
     "cell_type": "heading",
     "level": 3,
     "metadata": {},
     "source": [
      "However, splayed and standard tables work pretty well"
     ]
    },
    {
     "cell_type": "code",
     "collapsed": false,
     "input": [
      "daily = Data('kdb://pcloud@localhost:5000/start/db::daily', engine=kq)"
     ],
     "language": "python",
     "metadata": {},
     "outputs": []
    },
    {
     "cell_type": "code",
     "collapsed": false,
     "input": [
      "daily"
     ],
     "language": "python",
     "metadata": {},
     "outputs": []
    },
    {
     "cell_type": "code",
     "collapsed": false,
     "input": [
      "daily.nrows"
     ],
     "language": "python",
     "metadata": {},
     "outputs": []
    },
    {
     "cell_type": "code",
     "collapsed": false,
     "input": [
      "# r: select from trade where date = last date, sym = `IBM\n",
      "r = daily[(daily.date == daily.date[-1]) & (daily.sym == 'IBM')]\n",
      "r"
     ],
     "language": "python",
     "metadata": {},
     "outputs": []
    },
    {
     "cell_type": "code",
     "collapsed": false,
     "input": [
      "r = daily[daily.sym == 'IBM']"
     ],
     "language": "python",
     "metadata": {},
     "outputs": []
    },
    {
     "cell_type": "code",
     "collapsed": false,
     "input": [
      "r.close.sum()"
     ],
     "language": "python",
     "metadata": {},
     "outputs": []
    },
    {
     "cell_type": "code",
     "collapsed": false,
     "input": [
      "r.columns"
     ],
     "language": "python",
     "metadata": {},
     "outputs": []
    },
    {
     "cell_type": "code",
     "collapsed": false,
     "input": [
      "# count r\n",
      "r.count() == r.nrows"
     ],
     "language": "python",
     "metadata": {},
     "outputs": []
    },
    {
     "cell_type": "heading",
     "level": 3,
     "metadata": {},
     "source": [
      "Blaze gives you simple functions for free"
     ]
    },
    {
     "cell_type": "code",
     "collapsed": false,
     "input": [
      "def wavg(weights, x):\n",
      "    return wsum(weights, x) / x.sum()\n",
      "\n",
      "\n",
      "def wsum(weights, x):\n",
      "    return (weights * x).sum()\n",
      "\n",
      "\n",
      "def prd(x):\n",
      "    return bz.exp(bz.log(x).sum())"
     ],
     "language": "python",
     "metadata": {},
     "outputs": []
    },
    {
     "cell_type": "code",
     "collapsed": false,
     "input": [
      "d = daily#[daily.price > 1e6]"
     ],
     "language": "python",
     "metadata": {},
     "outputs": []
    },
    {
     "cell_type": "code",
     "collapsed": false,
     "input": [
      "def symbol(data):\n",
      "    return Symbol(data.data.tablename, data.dshape)\n",
      "\n",
      "t = symbol(daily)\n",
      "compute_up(result, daily.data, scope={t: daily.data})"
     ],
     "language": "python",
     "metadata": {},
     "outputs": []
    },
    {
     "cell_type": "code",
     "collapsed": false,
     "input": [
      "d.nrows"
     ],
     "language": "python",
     "metadata": {},
     "outputs": []
    },
    {
     "cell_type": "code",
     "collapsed": false,
     "input": [
      "timeit repr((d.size * d.price).sum())"
     ],
     "language": "python",
     "metadata": {},
     "outputs": []
    },
    {
     "cell_type": "heading",
     "level": 3,
     "metadata": {},
     "source": [
      "Simple `by` expressions work too"
     ]
    },
    {
     "cell_type": "code",
     "collapsed": false,
     "input": [
      "result = by(d.sym,\n",
      "            mean=d.price.mean(),\n",
      "            size=d.size.sum(),\n",
      "            wprice=wavg(d.size, d.price))\n",
      "result"
     ],
     "language": "python",
     "metadata": {},
     "outputs": []
    },
    {
     "cell_type": "heading",
     "level": 3,
     "metadata": {},
     "source": [
      "The Future\u2122"
     ]
    },
    {
     "cell_type": "code",
     "collapsed": false,
     "input": [
      "# select cnt: count i, size: sum size, price: last price, wprice: size wavg price\n",
      "#     by 5 xbar time.minute from trade\n",
      "result = by(trade.time.minute.bar(5),  # dates/times don't work yet\n",
      "            cnt=trade.price.nrows(),\n",
      "            size=trade.size.sum(),\n",
      "            price=trade.price.tail(1),  # doesn't exist\n",
      "            wprice=wavg(trade.size, trade.price))\n",
      "result"
     ],
     "language": "python",
     "metadata": {},
     "outputs": []
    }
   ],
   "metadata": {}
  }
 ]
}