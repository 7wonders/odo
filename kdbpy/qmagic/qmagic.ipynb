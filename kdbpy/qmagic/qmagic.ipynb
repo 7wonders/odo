{
 "metadata": {
  "name": "",
  "signature": "sha256:167422999435bb9249ab04b5988ce5e028f7b78ad5ab448c5b356ddc860e3d14"
 },
 "nbformat": 3,
 "nbformat_minor": 0,
 "worksheets": [
  {
   "cells": [
    {
     "cell_type": "heading",
     "level": 3,
     "metadata": {},
     "source": [
      "The `%%script` magic already exists in IPython, so you can easily run a `q` script from within it."
     ]
    },
    {
     "cell_type": "code",
     "collapsed": false,
     "input": [
      "%%script q\n",
      "t: ([] name: `a`b`c; amount: 1 2 3)\n",
      "d: select from t where t.amount > 1\n",
      "d"
     ],
     "language": "python",
     "metadata": {},
     "outputs": []
    },
    {
     "cell_type": "heading",
     "level": 3,
     "metadata": {},
     "source": [
      "This is executed line by line, split on `\\n`, so you can't have arbitrarily complex multiline `q` expressions"
     ]
    },
    {
     "cell_type": "heading",
     "level": 3,
     "metadata": {},
     "source": [
      "`%(re)load_ext qmagic` will load the IPython *line* magic called `q`"
     ]
    },
    {
     "cell_type": "code",
     "collapsed": false,
     "input": [
      "%reload_ext qmagic"
     ],
     "language": "python",
     "metadata": {},
     "outputs": []
    },
    {
     "cell_type": "heading",
     "level": 3,
     "metadata": {},
     "source": [
      "You can now run `q` expressions that either print to `stdout`..."
     ]
    },
    {
     "cell_type": "code",
     "collapsed": false,
     "input": [
      "%q ([] name: `a`b`c; amount: 1 2 3)\n",
      "df"
     ],
     "language": "python",
     "metadata": {},
     "outputs": []
    },
    {
     "cell_type": "heading",
     "level": 3,
     "metadata": {},
     "source": [
      "... or return a `pandas` `DataFrame`!"
     ]
    },
    {
     "cell_type": "code",
     "collapsed": false,
     "input": [
      "df = %q -d ([] name: `a`b`c; amount: 1 2 3)\n",
      "df"
     ],
     "language": "python",
     "metadata": {},
     "outputs": []
    },
    {
     "cell_type": "heading",
     "level": 3,
     "metadata": {},
     "source": [
      "Of course, `qsql` works as well"
     ]
    },
    {
     "cell_type": "code",
     "collapsed": false,
     "input": [
      "df = %q -d t: ([] name: `a`b; amount: 1 2); select from t where t.amount > 1"
     ],
     "language": "python",
     "metadata": {},
     "outputs": []
    },
    {
     "cell_type": "code",
     "collapsed": false,
     "input": [
      "df"
     ],
     "language": "python",
     "metadata": {},
     "outputs": []
    },
    {
     "cell_type": "heading",
     "level": 3,
     "metadata": {},
     "source": [
      "TODO: figure out a way to allow more complex multiline expressions"
     ]
    },
    {
     "cell_type": "code",
     "collapsed": false,
     "input": [
      "# TODO:\n",
      "# %%q\n",
      "# t: ([] name: `Alice`Alice`Bob`Joe`Joe;\n",
      "#     amount: 100 200 300 -300.4 342.3;\n",
      "#     id: 1 + til 5)"
     ],
     "language": "python",
     "metadata": {},
     "outputs": []
    }
   ],
   "metadata": {}
  }
 ]
}