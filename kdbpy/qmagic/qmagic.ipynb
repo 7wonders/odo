{
 "metadata": {
  "name": "",
  "signature": "sha256:418aa75371cf11ac2de60a091046df8dfff9bd436e622bf7f0ebd015a1f37c42"
 },
 "nbformat": 3,
 "nbformat_minor": 0,
 "worksheets": [
  {
   "cells": [
    {
     "cell_type": "heading",
     "level": 3,
     "metadata": {},
     "source": [
      "The `%%script` magic already exists in IPython, so you can easily run a `q` script from within it."
     ]
    },
    {
     "cell_type": "code",
     "collapsed": false,
     "input": [
      "%%script q\n",
      "t: ([] name: `a`b`c; amount: 1 2 3)\n",
      "select from t where t.amount > 1"
     ],
     "language": "python",
     "metadata": {},
     "outputs": []
    },
    {
     "cell_type": "code",
     "collapsed": false,
     "input": [
      "try:\n",
      "    meh\n",
      "except NameError:\n",
      "    pass"
     ],
     "language": "python",
     "metadata": {},
     "outputs": []
    },
    {
     "cell_type": "heading",
     "level": 3,
     "metadata": {},
     "source": [
      "`%(re)load_ext qmagic` will load the `qmagic`:"
     ]
    },
    {
     "cell_type": "code",
     "collapsed": false,
     "input": [
      "%reload_ext qmagic"
     ],
     "language": "python",
     "metadata": {},
     "outputs": []
    },
    {
     "cell_type": "heading",
     "level": 3,
     "metadata": {},
     "source": [
      "Show help"
     ]
    },
    {
     "cell_type": "code",
     "collapsed": false,
     "input": [
      "%q?"
     ],
     "language": "python",
     "metadata": {},
     "outputs": []
    },
    {
     "cell_type": "heading",
     "level": 3,
     "metadata": {},
     "source": [
      "Provide a connection string (with `-c`/`--connection-string`)"
     ]
    },
    {
     "cell_type": "markdown",
     "metadata": {},
     "source": [
      "(You only have to do this once)"
     ]
    },
    {
     "cell_type": "code",
     "collapsed": false,
     "input": [
      "%q -r -c kdb://pcloud@localhost:5001"
     ],
     "language": "python",
     "metadata": {},
     "outputs": []
    },
    {
     "cell_type": "markdown",
     "metadata": {},
     "source": [
      "(`-r`/`--restart` restarts the Q interpreter)"
     ]
    },
    {
     "cell_type": "markdown",
     "metadata": {},
     "source": [
      "### Evaluate a `q` expression"
     ]
    },
    {
     "cell_type": "code",
     "collapsed": false,
     "input": [
      "x = %q t: 1; t; t + 1\n",
      "x"
     ],
     "language": "python",
     "metadata": {},
     "outputs": []
    },
    {
     "cell_type": "heading",
     "level": 3,
     "metadata": {},
     "source": [
      "Values of variables are preserved across executions of the magic"
     ]
    },
    {
     "cell_type": "code",
     "collapsed": false,
     "input": [
      "%q t"
     ],
     "language": "python",
     "metadata": {},
     "outputs": []
    },
    {
     "cell_type": "heading",
     "level": 3,
     "metadata": {},
     "source": [
      "Multiline expressions work"
     ]
    },
    {
     "cell_type": "code",
     "collapsed": false,
     "input": [
      "%%q\n",
      "t: ([id: til 5];\n",
      "    name: `a`b`c`d`e;\n",
      "    amount: 1.0 2.0 3.0 4.0 5.0);\n",
      "f: {[x];\n",
      "    w: x + 1;\n",
      "    z: w * 2;\n",
      "    z};\n",
      "g: value t;\n",
      "x: f[g.amount];\n",
      "r: x = (g.amount + 1) * 2;\n",
      "all r"
     ],
     "language": "python",
     "metadata": {},
     "outputs": []
    },
    {
     "cell_type": "heading",
     "level": 3,
     "metadata": {},
     "source": [
      "You can assign to a variable name with the `-a/--assign` argument"
     ]
    },
    {
     "cell_type": "code",
     "collapsed": false,
     "input": [
      "y = %q value t\n",
      "y"
     ],
     "language": "python",
     "metadata": {},
     "outputs": []
    },
    {
     "cell_type": "code",
     "collapsed": false,
     "input": [
      "%%q -a result\n",
      "x: value t;\n",
      "x.amount"
     ],
     "language": "python",
     "metadata": {},
     "outputs": []
    },
    {
     "cell_type": "code",
     "collapsed": false,
     "input": [
      "result"
     ],
     "language": "python",
     "metadata": {},
     "outputs": []
    },
    {
     "cell_type": "heading",
     "level": 3,
     "metadata": {},
     "source": [
      "`q` Functions don't really work..."
     ]
    },
    {
     "cell_type": "code",
     "collapsed": false,
     "input": [
      "import numpy as np\n",
      "x = np.arange(3)\n",
      "x"
     ],
     "language": "python",
     "metadata": {},
     "outputs": []
    },
    {
     "cell_type": "code",
     "collapsed": false,
     "input": [
      "%q {x + 1}"
     ],
     "language": "python",
     "metadata": {},
     "outputs": []
    },
    {
     "cell_type": "code",
     "collapsed": false,
     "input": [
      "%q M: 1"
     ],
     "language": "python",
     "metadata": {},
     "outputs": []
    },
    {
     "cell_type": "code",
     "collapsed": false,
     "input": [
      "# fails: %q {x + M}[x]"
     ],
     "language": "python",
     "metadata": {},
     "outputs": []
    },
    {
     "cell_type": "heading",
     "level": 3,
     "metadata": {},
     "source": [
      "... and errors are gross"
     ]
    },
    {
     "cell_type": "markdown",
     "metadata": {},
     "source": [
      "### Thoughts?\n",
      "* Would an IQ (as in IJulia, IPython, etc.) be a potential money-maker for Continuum (possibly partnering with Kx)?\n",
      "  * Plus that name is punny!\n",
      "* Imagine `conda install iq` -> installs a `q` package (to be built) + `ipython-notebook` + `iq` package (needs to be built)\n",
      "* Q IDEs exist ...\n",
      "  * TODO: links\n",
      "* ... but allegedly Q folks don't like GUIs. IQ could be the happy middle ground where Q haters and Q lovers interact in a sane way.\n",
      "* A heavy Q user at the SEC says that a notebook-y interface would be a huge win because it could have tab completion + syntax highlighting + still command-line-ish enough for Q heads.\n",
      "* You *can* load C extensions fairly easily so it's probably possible to bind ZMQ (which I believe is necessary for creating a notebook interface to another language)"
     ]
    },
    {
     "cell_type": "markdown",
     "metadata": {},
     "source": [
      "The user base for this is about 5-10 folks who want to run KDB queries and get back a `DataFrame` so they can experiment without a hair pulling Q-fest."
     ]
    },
    {
     "cell_type": "heading",
     "level": 3,
     "metadata": {},
     "source": [
      "Next Friday..."
     ]
    },
    {
     "cell_type": "markdown",
     "metadata": {},
     "source": [
      "Use Blaze to drive Q, because who the heck likes Q? Only masochists!"
     ]
    },
    {
     "cell_type": "markdown",
     "metadata": {},
     "source": [
      "KDB *is* very performant on larger-than-memory data. Let's get that with a non-disgusting syntax."
     ]
    }
   ],
   "metadata": {}
  }
 ]
}