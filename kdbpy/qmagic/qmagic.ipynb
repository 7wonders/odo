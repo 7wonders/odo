{
 "metadata": {
  "name": "",
  "signature": "sha256:4f9aa0c2b89aeb7eea3d2c900f3e9930fe871a03ab7932291f0a3441e94e55c8"
 },
 "nbformat": 3,
 "nbformat_minor": 0,
 "worksheets": [
  {
   "cells": [
    {
     "cell_type": "heading",
     "level": 3,
     "metadata": {},
     "source": [
      "The `%%script` magic already exists in IPython, so you can easily run a `q` script from within it."
     ]
    },
    {
     "cell_type": "code",
     "collapsed": false,
     "input": [
      "%%script q\n",
      "t: ([] name: `a`b`c; amount: 1 2 3)\n",
      "d: select from t where t.amount > 1\n",
      "d"
     ],
     "language": "python",
     "metadata": {},
     "outputs": [
      {
       "output_type": "stream",
       "stream": "stdout",
       "text": [
        "name amount\n",
        "-----------\n",
        "b    2     \n",
        "c    3     \n"
       ]
      }
     ],
     "prompt_number": 307
    },
    {
     "cell_type": "heading",
     "level": 3,
     "metadata": {},
     "source": [
      "This is executed line by line, split on `\\n`, so you can't have arbitrarily complex multiline `q` expressions"
     ]
    },
    {
     "cell_type": "heading",
     "level": 3,
     "metadata": {},
     "source": [
      "`%(re)load_ext qmagic` will load the IPython *line* magic called `q`"
     ]
    },
    {
     "cell_type": "code",
     "collapsed": false,
     "input": [
      "%reload_ext qmagic"
     ],
     "language": "python",
     "metadata": {},
     "outputs": [],
     "prompt_number": 316
    },
    {
     "cell_type": "heading",
     "level": 3,
     "metadata": {},
     "source": [
      "You can now run `q` expressions that either print to `stdout`..."
     ]
    },
    {
     "cell_type": "code",
     "collapsed": false,
     "input": [
      "%q ([] name: `a`b`c; amount: 1 2 3)"
     ],
     "language": "python",
     "metadata": {},
     "outputs": [
      {
       "output_type": "stream",
       "stream": "stdout",
       "text": [
        "name amount\n",
        "-----------\n",
        "a    1     \n",
        "b    2     \n",
        "c    3     \n"
       ]
      }
     ],
     "prompt_number": 318
    },
    {
     "cell_type": "heading",
     "level": 3,
     "metadata": {},
     "source": [
      "... or return a `pandas` `DataFrame`!"
     ]
    },
    {
     "cell_type": "code",
     "collapsed": false,
     "input": [
      "df = %q -d ([] name: `a`b`c; amount: 1 2 3)\n",
      "df"
     ],
     "language": "python",
     "metadata": {},
     "outputs": [
      {
       "html": [
        "<div style=\"max-height:1000px;max-width:1500px;overflow:auto;\">\n",
        "<table border=\"1\" class=\"dataframe\">\n",
        "  <thead>\n",
        "    <tr style=\"text-align: right;\">\n",
        "      <th></th>\n",
        "      <th>name</th>\n",
        "      <th>amount</th>\n",
        "    </tr>\n",
        "  </thead>\n",
        "  <tbody>\n",
        "    <tr>\n",
        "      <th>0</th>\n",
        "      <td> a</td>\n",
        "      <td> 1</td>\n",
        "    </tr>\n",
        "    <tr>\n",
        "      <th>1</th>\n",
        "      <td> b</td>\n",
        "      <td> 2</td>\n",
        "    </tr>\n",
        "    <tr>\n",
        "      <th>2</th>\n",
        "      <td> c</td>\n",
        "      <td> 3</td>\n",
        "    </tr>\n",
        "  </tbody>\n",
        "</table>\n",
        "</div>"
       ],
       "metadata": {},
       "output_type": "pyout",
       "prompt_number": 312,
       "text": [
        "  name  amount\n",
        "0    a       1\n",
        "1    b       2\n",
        "2    c       3"
       ]
      }
     ],
     "prompt_number": 312
    },
    {
     "cell_type": "heading",
     "level": 3,
     "metadata": {},
     "source": [
      "`q` Functions work as well (but only wi"
     ]
    },
    {
     "cell_type": "code",
     "collapsed": false,
     "input": [
      "x = np.arange(3)\n",
      "s = %q -d {x + 1}\n",
      "s"
     ],
     "language": "python",
     "metadata": {},
     "outputs": [
      {
       "metadata": {},
       "output_type": "pyout",
       "prompt_number": 335,
       "text": [
        "0    1\n",
        "1    2\n",
        "2    3\n",
        "dtype: int64"
       ]
      }
     ],
     "prompt_number": 335
    },
    {
     "cell_type": "heading",
     "level": 3,
     "metadata": {},
     "source": [
      "Of course, `qsql` works as well"
     ]
    },
    {
     "cell_type": "code",
     "collapsed": false,
     "input": [
      "df = %q -d t: ([] name: `a`b; amount: 1 2); select from t where t.amount > 1"
     ],
     "language": "python",
     "metadata": {},
     "outputs": []
    },
    {
     "cell_type": "code",
     "collapsed": false,
     "input": [
      "df"
     ],
     "language": "python",
     "metadata": {},
     "outputs": []
    },
    {
     "cell_type": "heading",
     "level": 3,
     "metadata": {},
     "source": [
      "TODO: figure out a way to allow more complex multiline expressions"
     ]
    },
    {
     "cell_type": "code",
     "collapsed": false,
     "input": [
      "# TODO:\n",
      "# %%q\n",
      "# t: ([] name: `Alice`Alice`Bob`Joe`Joe;\n",
      "#     amount: 100 200 300 -300.4 342.3;\n",
      "#     id: 1 + til 5)"
     ],
     "language": "python",
     "metadata": {},
     "outputs": []
    }
   ],
   "metadata": {}
  }
 ]
}